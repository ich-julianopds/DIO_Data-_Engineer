{
  "nbformat": 4,
  "nbformat_minor": 0,
  "metadata": {
    "colab": {
      "name": "DIO_Aula_10_Datetime.ipynb",
      "provenance": [],
      "collapsed_sections": [],
      "authorship_tag": "ABX9TyNx65UBIal+yiQYPKhwl94i",
      "include_colab_link": true
    },
    "kernelspec": {
      "name": "python3",
      "display_name": "Python 3"
    },
    "language_info": {
      "name": "python"
    }
  },
  "cells": [
    {
      "cell_type": "markdown",
      "metadata": {
        "id": "view-in-github",
        "colab_type": "text"
      },
      "source": [
        "<a href=\"https://colab.research.google.com/github/ich-julianopds/DIO_Data_Engineer/blob/main/DIO_Aula_10_Datetime.ipynb\" target=\"_parent\"><img src=\"https://colab.research.google.com/assets/colab-badge.svg\" alt=\"Open In Colab\"/></a>"
      ]
    },
    {
      "cell_type": "markdown",
      "metadata": {
        "id": "tvp2m8tF8K6X"
      },
      "source": [
        "# DATETIME \n",
        "\n",
        "Importante pesquisar a documentação da biblioteca Datetime do Python. Lá possuem todas as diretivas para a função datetime, tanto para o date como para o Time, além dos formatos que podemos utilizar."
      ]
    },
    {
      "cell_type": "code",
      "metadata": {
        "id": "vc9j2wUe6U34"
      },
      "source": [
        "from datetime import date , time , datetime , timedelta\n",
        "\n",
        "#Função utilizando o Date\n",
        "def trabalhando_com_date():\n",
        "  data_atual = date.today()\n",
        "  print(data_atual) #Este é o formato para datetime, por padrão ele vem no formato americano, ano, mês e dia\n",
        "  print(data_atual.strftime('%d/%m/%y')) #O 'strftime' permite alterar o formato\n",
        "  print(data_atual.strftime('%d,%m,%y')) # Com a vírgula\n",
        "  print(data_atual.strftime('%d-%m-%y')) # Com o traço\n",
        "  print(data_atual.strftime('%A %B %Y')) # Dia da semana, Mês e Ano, com espaço na formatação"
      ],
      "execution_count": 73,
      "outputs": []
    },
    {
      "cell_type": "code",
      "metadata": {
        "id": "F0mlJ1PT_7TH"
      },
      "source": [
        "#Função utilizando o Datetime\n",
        "def trabalhando_com_datetime():\n",
        "  data_atual = datetime.now()\n",
        "  print(data_atual.strftime('%c'))\n",
        "  tupla = ('Segunda', 'Terça', 'Quarta', 'Quinta', 'Sexta', 'Sábado', 'Domingo')\n",
        "  print(tupla[data_atual.weekday()])"
      ],
      "execution_count": 74,
      "outputs": []
    },
    {
      "cell_type": "code",
      "metadata": {
        "id": "u4jNBIXk-ENU"
      },
      "source": [
        "# Função utilizando o Time\n",
        "def trabalhando_com_time():\n",
        "  horario = time(hour = 15, minutes = 18, second = 30)\n",
        "  print(horario.strftime('%H:%M:%S'))"
      ],
      "execution_count": 75,
      "outputs": []
    },
    {
      "cell_type": "code",
      "metadata": {
        "colab": {
          "base_uri": "https://localhost:8080/"
        },
        "id": "3KVMmUhw6433",
        "outputId": "e50fc184-1aa1-4362-a845-caffe358c9e9"
      },
      "source": [
        "if __name__ == '__main__':\n",
        "  trabalhando_com_date()"
      ],
      "execution_count": 76,
      "outputs": [
        {
          "output_type": "stream",
          "text": [
            "2021-08-18\n",
            "18/08/21\n",
            "18,08,21\n",
            "18-08-21\n",
            "Wednesday August 2021\n"
          ],
          "name": "stdout"
        }
      ]
    },
    {
      "cell_type": "code",
      "metadata": {
        "colab": {
          "base_uri": "https://localhost:8080/"
        },
        "id": "Gt7W4_O6-qu6",
        "outputId": "c60e7027-238b-4bdb-ca77-88d3ed09d564"
      },
      "source": [
        "print(data_atual.year)"
      ],
      "execution_count": 44,
      "outputs": [
        {
          "output_type": "stream",
          "text": [
            "2021\n"
          ],
          "name": "stdout"
        }
      ]
    },
    {
      "cell_type": "code",
      "metadata": {
        "colab": {
          "base_uri": "https://localhost:8080/"
        },
        "id": "KtK7eoO_BbAh",
        "outputId": "5b0814a7-7fca-48fe-f64f-5fb74a2810ae"
      },
      "source": [
        "print(data_atual.month)"
      ],
      "execution_count": 52,
      "outputs": [
        {
          "output_type": "stream",
          "text": [
            "8\n"
          ],
          "name": "stdout"
        }
      ]
    },
    {
      "cell_type": "code",
      "metadata": {
        "colab": {
          "base_uri": "https://localhost:8080/"
        },
        "id": "KboWpuRZBesb",
        "outputId": "ac8298e5-c41d-441b-b411-eab1bfbac661"
      },
      "source": [
        "print(data_atual.weekday())"
      ],
      "execution_count": 50,
      "outputs": [
        {
          "output_type": "stream",
          "text": [
            "2\n"
          ],
          "name": "stdout"
        }
      ]
    },
    {
      "cell_type": "markdown",
      "metadata": {
        "id": "pjgJTlJMEOPu"
      },
      "source": [
        "## Posso criar uma data utilizando o Datetime"
      ]
    },
    {
      "cell_type": "code",
      "metadata": {
        "colab": {
          "base_uri": "https://localhost:8080/"
        },
        "id": "lkCj4aWaD3Vm",
        "outputId": "fa40ad4c-0442-4984-f07c-614d00c1fffe"
      },
      "source": [
        "data_criada = datetime(2020 , 6 , 15 , 15 , 30 , 20)\n",
        "print(data_criada)\n",
        "print(data_criada.strftime('%c')) #Print formatado utilizando '%c'"
      ],
      "execution_count": 56,
      "outputs": [
        {
          "output_type": "stream",
          "text": [
            "2020-06-15 15:30:20\n",
            "Mon Jun 15 15:30:20 2020\n"
          ],
          "name": "stdout"
        }
      ]
    },
    {
      "cell_type": "markdown",
      "metadata": {
        "id": "dNEY6uJnErTH"
      },
      "source": [
        "## Converter Data em String para formato Datetime:"
      ]
    },
    {
      "cell_type": "code",
      "metadata": {
        "colab": {
          "base_uri": "https://localhost:8080/"
        },
        "id": "6Nm1M8aXEF86",
        "outputId": "97a7ed29-347d-4668-8cb5-18673398ad58"
      },
      "source": [
        "data_string = '01/01/2020'\n",
        "type(data_string)"
      ],
      "execution_count": 67,
      "outputs": [
        {
          "output_type": "execute_result",
          "data": {
            "text/plain": [
              "str"
            ]
          },
          "metadata": {
            "tags": []
          },
          "execution_count": 67
        }
      ]
    },
    {
      "cell_type": "code",
      "metadata": {
        "id": "yaVV2n3KG8d3"
      },
      "source": [
        "data_convertida = datetime.strptime(data_string, '%d/%m/%y')\n",
        "print(data_convertida)"
      ],
      "execution_count": null,
      "outputs": []
    },
    {
      "cell_type": "markdown",
      "metadata": {
        "id": "blkgjtvoHs2D"
      },
      "source": [
        "## Deltatime dá a opção de somar e subtrair datas dos formatos Datetime\n",
        "\n",
        "Como nos exxemplos acima, vamos subtrair um ano da variável data_atual, como exemplo:\n"
      ]
    },
    {
      "cell_type": "code",
      "metadata": {
        "colab": {
          "base_uri": "https://localhost:8080/"
        },
        "id": "zybQXSdTHttk",
        "outputId": "8c4d9110-42d7-4455-e267-0ee685cb1a20"
      },
      "source": [
        "print(data_atual)"
      ],
      "execution_count": 77,
      "outputs": [
        {
          "output_type": "stream",
          "text": [
            "2021-08-18\n"
          ],
          "name": "stdout"
        }
      ]
    },
    {
      "cell_type": "code",
      "metadata": {
        "colab": {
          "base_uri": "https://localhost:8080/"
        },
        "id": "0cJYT-1eHxZV",
        "outputId": "9d883af3-2774-43c8-9ff9-20ae41e53e0b"
      },
      "source": [
        "nova_data = data_atual - timedelta(days=365, hours=2, minutes=15) #Sutraídos 365 dias, e horas à frente, e minutos também\n",
        "print(nova_data)"
      ],
      "execution_count": 81,
      "outputs": [
        {
          "output_type": "stream",
          "text": [
            "2020-08-18\n"
          ],
          "name": "stdout"
        }
      ]
    }
  ]
}