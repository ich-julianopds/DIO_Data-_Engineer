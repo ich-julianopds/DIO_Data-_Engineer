{
  "nbformat": 4,
  "nbformat_minor": 0,
  "metadata": {
    "colab": {
      "name": "Dio_tuplas_listas_conjuntos.ipynb",
      "provenance": [],
      "collapsed_sections": [],
      "authorship_tag": "ABX9TyPwgRU8Od8jQzEOrVLEw9JH",
      "include_colab_link": true
    },
    "kernelspec": {
      "name": "python3",
      "display_name": "Python 3"
    },
    "language_info": {
      "name": "python"
    }
  },
  "cells": [
    {
      "cell_type": "markdown",
      "metadata": {
        "id": "view-in-github",
        "colab_type": "text"
      },
      "source": [
        "<a href=\"https://colab.research.google.com/github/ich-julianopds/DIO_Data_Engineer/blob/main/Dio_tuplas_listas_conjuntos.ipynb\" target=\"_parent\"><img src=\"https://colab.research.google.com/assets/colab-badge.svg\" alt=\"Open In Colab\"/></a>"
      ]
    },
    {
      "cell_type": "markdown",
      "metadata": {
        "id": "wcho_-BfZHso"
      },
      "source": [
        "# Tuplas, Listas e Conjuntos"
      ]
    },
    {
      "cell_type": "markdown",
      "metadata": {
        "id": "O5Cz44b0irYF"
      },
      "source": [
        "Exemplo de Range"
      ]
    },
    {
      "cell_type": "code",
      "metadata": {
        "colab": {
          "base_uri": "https://localhost:8080/"
        },
        "id": "X42Xmkf5xuUj",
        "outputId": "785b31a0-871e-4c70-f24c-d4bfb8275c91"
      },
      "source": [
        "a = 100\n",
        "range (1, a-5)"
      ],
      "execution_count": null,
      "outputs": [
        {
          "output_type": "execute_result",
          "data": {
            "text/plain": [
              "range(1, 95)"
            ]
          },
          "metadata": {
            "tags": []
          },
          "execution_count": 1
        }
      ]
    },
    {
      "cell_type": "code",
      "metadata": {
        "colab": {
          "base_uri": "https://localhost:8080/"
        },
        "id": "zAw1zB-dyioX",
        "outputId": "9b8944f7-a7c0-42c1-a2ae-0b61d7299759"
      },
      "source": [
        "a = int(input('Digite um número: '))\n",
        "while a % 2 != 0:\n",
        "    a = int(input('Digite um número: '))"
      ],
      "execution_count": null,
      "outputs": [
        {
          "output_type": "stream",
          "text": [
            "Digite um número: 8\n"
          ],
          "name": "stdout"
        }
      ]
    },
    {
      "cell_type": "markdown",
      "metadata": {
        "id": "YBUKLqsbikGw"
      },
      "source": [
        "# Tuplas, conjuntos e listas"
      ]
    },
    {
      "cell_type": "markdown",
      "metadata": {
        "id": "aC_WPWRmjPoy"
      },
      "source": [
        "Estas são as diferenças entre eles:\n",
        "\n",
        "**Conjunto - { }**\n",
        "\n",
        "**Tupla - ( )**\n",
        "\n",
        "**Lista - [ ]**\n"
      ]
    },
    {
      "cell_type": "code",
      "metadata": {
        "colab": {
          "base_uri": "https://localhost:8080/"
        },
        "id": "Tswbn41CiqKB",
        "outputId": "0373d223-737c-4ba4-c201-fc19780e3c22"
      },
      "source": [
        "#Obs: No conjumto, ele não aceita repetição de elementos iguais, conforme exemplo\n",
        "conjunto = {1,2,3,4,5,5}\n",
        "print(conjunto)"
      ],
      "execution_count": null,
      "outputs": [
        {
          "output_type": "stream",
          "text": [
            "{1, 2, 3, 4, 5}\n"
          ],
          "name": "stdout"
        }
      ]
    },
    {
      "cell_type": "code",
      "metadata": {
        "id": "T1THsmRBi3zf"
      },
      "source": [
        "conjunto = {1,2,3,4,5}\n",
        "conjunto2 = {5,6,7,8}"
      ],
      "execution_count": null,
      "outputs": []
    },
    {
      "cell_type": "code",
      "metadata": {
        "colab": {
          "base_uri": "https://localhost:8080/"
        },
        "id": "NI-ZNEa8mEpb",
        "outputId": "13e11f54-9e40-4393-ee57-fac9d7e47443"
      },
      "source": [
        "#União de conjuntos\n",
        "conjunto_uniao = conjunto.union(conjunto2)\n",
        "print('União de conjuntos: {}'.format(conjunto_uniao))"
      ],
      "execution_count": null,
      "outputs": [
        {
          "output_type": "stream",
          "text": [
            "União de conjuntos: {1, 2, 3, 4, 5, 6, 7, 8}\n"
          ],
          "name": "stdout"
        }
      ]
    },
    {
      "cell_type": "code",
      "metadata": {
        "colab": {
          "base_uri": "https://localhost:8080/"
        },
        "id": "MY1BVtZ-mW8x",
        "outputId": "ea7f374f-7482-43d8-ea71-6c9d1ee17197"
      },
      "source": [
        "#Intersecção- Ele mostra quais os elementos que se repetem dentro do conjunto\n",
        "#Neste caso será apenas o elemento 5\n",
        "conjunto_interseccao = conjunto.intersection(conjunto2)\n",
        "print('Intersecção de conjuntos: {}'.format(conjunto_interseccao))"
      ],
      "execution_count": null,
      "outputs": [
        {
          "output_type": "stream",
          "text": [
            "Intersecção de conjuntos: {5}\n"
          ],
          "name": "stdout"
        }
      ]
    },
    {
      "cell_type": "code",
      "metadata": {
        "colab": {
          "base_uri": "https://localhost:8080/"
        },
        "id": "y8n8G13Hm6N8",
        "outputId": "e36a43e6-8545-4c42-ac59-1751ccb20496"
      },
      "source": [
        "#Diferença- Elementos que não se repetem- Contrário da intersecção\n",
        "conjunto_differenca = conjunto.difference(conjunto2)\n",
        "print('Diferença entre elementos: {}'.format(conjunto_differenca))"
      ],
      "execution_count": null,
      "outputs": [
        {
          "output_type": "stream",
          "text": [
            "Diferença entre elementos: {1, 2, 3, 4}\n"
          ],
          "name": "stdout"
        }
      ]
    },
    {
      "cell_type": "code",
      "metadata": {
        "colab": {
          "base_uri": "https://localhost:8080/"
        },
        "id": "f7UNbiQ0nufL",
        "outputId": "d3d5eecb-8e6d-4881-f02f-95792b94cb16"
      },
      "source": [
        "#Diferença simétrica - Parecida com a intersecção\n",
        "conjunto_diff_simetrica = conjunto.symmetric_difference(conjunto2)\n",
        "print('Diferença simétrica: {}'.format(conjunto_diff_simetrica))"
      ],
      "execution_count": null,
      "outputs": [
        {
          "output_type": "stream",
          "text": [
            "Diferença simétrica: {1, 2, 3, 4, 6, 7, 8}\n"
          ],
          "name": "stdout"
        }
      ]
    },
    {
      "cell_type": "code",
      "metadata": {
        "colab": {
          "base_uri": "https://localhost:8080/"
        },
        "id": "wncwGDms0get",
        "outputId": "5e597dcc-2177-42b8-86c1-e738c99f060d"
      },
      "source": [
        "#Subset - Checagem se o conjunto A seria subste do conjunto B, porém, o mesmo não é verdadeiro se inverso\n",
        "#Porque o B não é subset de A, conforme segundo print\n",
        "conjunto_a = {1,2,3}\n",
        "conjunto_b = {1,2,3,4,5}\n",
        "conjunto_subset = conjunto_a.issubset(conjunto_b)\n",
        "print('A é subconjunto de B?: {}'.format(conjunto_subset))"
      ],
      "execution_count": null,
      "outputs": [
        {
          "output_type": "stream",
          "text": [
            "A é subconjunto de B?: True\n"
          ],
          "name": "stdout"
        }
      ]
    },
    {
      "cell_type": "code",
      "metadata": {
        "colab": {
          "base_uri": "https://localhost:8080/"
        },
        "id": "7h4yWl_a1fNm",
        "outputId": "615cdf7a-8f7b-4785-d11c-f639e83aff03"
      },
      "source": [
        "conjunto_a = {1,2,3}\n",
        "conjunto_b = {1,2,3,4,5}\n",
        "conjunto_subset = conjunto_b.issubset(conjunto_a)\n",
        "print(conjunto_subset)"
      ],
      "execution_count": null,
      "outputs": [
        {
          "output_type": "stream",
          "text": [
            "False\n"
          ],
          "name": "stdout"
        }
      ]
    },
    {
      "cell_type": "code",
      "metadata": {
        "colab": {
          "base_uri": "https://localhost:8080/"
        },
        "id": "RucWruqI8i9j",
        "outputId": "02ae5458-ded1-42d4-e11b-c121c9820ef5"
      },
      "source": [
        "#Superset - Sempre que um conjunto tem um conjunto como subset, ele é superset do outro\n",
        "#Exemplo abaixo- O conjunto B é superset do A// O A é subset de B\n",
        "#Obs: Se invertermos a ordem dos conjuntos na função, vai dar false\n",
        "conjunto_a = {1,2,3}\n",
        "conjunto_b = {1,2,3,4,5}\n",
        "conjunto_superset = conjunto_b.issuperset(conjunto_a)\n",
        "print('B é superset de A? : {}'.format(conjunto_superset))"
      ],
      "execution_count": null,
      "outputs": [
        {
          "output_type": "stream",
          "text": [
            "B é superset de A? : True\n"
          ],
          "name": "stdout"
        }
      ]
    },
    {
      "cell_type": "markdown",
      "metadata": {
        "id": "ntXwDK_t_iX4"
      },
      "source": [
        "Como transformar lista para conjunto?\n",
        "\n",
        "Cmo sei que a lista repete elementos, e o conjunto não, posso eliminar as duplicidades por converter a lista em conjunto. Mas como faço isto?\n",
        "\n",
        "Segue exemplo de código abaixo:"
      ]
    },
    {
      "cell_type": "code",
      "metadata": {
        "colab": {
          "base_uri": "https://localhost:8080/"
        },
        "id": "DG-SlGIvAGlf",
        "outputId": "bff096f6-1bd7-498a-c5f9-160adc611f90"
      },
      "source": [
        "#Conversão de lsta para conjunto\n",
        "lista_animais = {'cachorro', 'cachorro', 'gato', 'gato', 'elefante'}\n",
        "conjunto_animais = set(lista_animais)\n",
        "print(conjunto_animais)\n",
        "type(conjunto_animais)"
      ],
      "execution_count": null,
      "outputs": [
        {
          "output_type": "stream",
          "text": [
            "{'elefante', 'cachorro', 'gato'}\n"
          ],
          "name": "stdout"
        },
        {
          "output_type": "execute_result",
          "data": {
            "text/plain": [
              "set"
            ]
          },
          "metadata": {
            "tags": []
          },
          "execution_count": 46
        }
      ]
    },
    {
      "cell_type": "code",
      "metadata": {
        "colab": {
          "base_uri": "https://localhost:8080/"
        },
        "id": "9kv2G5z0AlDs",
        "outputId": "b897da56-a2af-4612-9d62-a9d3326fb5cd"
      },
      "source": [
        "#Se quiser converter novamente para lista, é só reverter o comando usando o list\n",
        "lista_animais_retorna = list(conjunto_animais)\n",
        "print(lista_animais_retorna)\n",
        "type(lista_animais_retorna)"
      ],
      "execution_count": null,
      "outputs": [
        {
          "output_type": "stream",
          "text": [
            "['elefante', 'cachorro', 'gato']\n"
          ],
          "name": "stdout"
        },
        {
          "output_type": "execute_result",
          "data": {
            "text/plain": [
              "list"
            ]
          },
          "metadata": {
            "tags": []
          },
          "execution_count": 47
        }
      ]
    }
  ]
}