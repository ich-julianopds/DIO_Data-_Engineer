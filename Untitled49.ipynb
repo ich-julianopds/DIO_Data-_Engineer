{
  "nbformat": 4,
  "nbformat_minor": 0,
  "metadata": {
    "colab": {
      "name": "Untitled49.ipynb",
      "provenance": [],
      "authorship_tag": "ABX9TyOVL74GNKvrJUNjLwPu6Jt7",
      "include_colab_link": true
    },
    "kernelspec": {
      "name": "python3",
      "display_name": "Python 3"
    },
    "language_info": {
      "name": "python"
    }
  },
  "cells": [
    {
      "cell_type": "markdown",
      "metadata": {
        "id": "view-in-github",
        "colab_type": "text"
      },
      "source": [
        "<a href=\"https://colab.research.google.com/github/ich-julianopds/DIO_Data_Engineer/blob/main/Untitled49.ipynb\" target=\"_parent\"><img src=\"https://colab.research.google.com/assets/colab-badge.svg\" alt=\"Open In Colab\"/></a>"
      ]
    },
    {
      "cell_type": "code",
      "metadata": {
        "id": "ZCBeCu1RTZ8Y"
      },
      "source": [
        "  \n",
        "n1, n2, n3, n4= input().split()\n",
        "n1 = float(n1)\n",
        "n2 = float(n2)\n",
        "n3 = float(n3)\n",
        "n4 = float(n4)\n",
        "media = ((n1*2)+(n2*3)+(n3*4)+(n4*1))/10 \n",
        "print('Media: %.1f' %media)\n",
        "if media >= 7.0:\n",
        "    print('Aluno aprovado.')\n",
        "elif media < 5.0:\n",
        "    print('Aluno reprovado.')\n",
        "elif 5.0 <= media <= 6.9:\n",
        "    print('Aluno em exame.')\n",
        "    n5 = float(input())\n",
        "    print('Nota do exame: ', n5 )\n",
        "    final = (n5 + media)/2\n",
        "    if final >=5:\n",
        "      print('Aluno aprovado.')\n",
        "    else:\n",
        "      print('Aluno reprovado', end=\"\" '\\n')\n",
        "    \n",
        "    print('Media final: %.1f' %final)"
      ],
      "execution_count": null,
      "outputs": []
    }
  ]
}