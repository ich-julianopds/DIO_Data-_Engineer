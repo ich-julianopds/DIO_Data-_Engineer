{
  "nbformat": 4,
  "nbformat_minor": 0,
  "metadata": {
    "colab": {
      "name": "DIO_exercicio_televisao.ipynb",
      "provenance": [],
      "collapsed_sections": [],
      "authorship_tag": "ABX9TyO/9yUdGRq53e2Zn4uBnSqL",
      "include_colab_link": true
    },
    "kernelspec": {
      "name": "python3",
      "display_name": "Python 3"
    },
    "language_info": {
      "name": "python"
    }
  },
  "cells": [
    {
      "cell_type": "markdown",
      "metadata": {
        "id": "view-in-github",
        "colab_type": "text"
      },
      "source": [
        "<a href=\"https://colab.research.google.com/github/ich-julianopds/DIO_Data_Engineer/blob/main/DIO_exercicio_televisao.ipynb\" target=\"_parent\"><img src=\"https://colab.research.google.com/assets/colab-badge.svg\" alt=\"Open In Colab\"/></a>"
      ]
    },
    {
      "cell_type": "code",
      "metadata": {
        "colab": {
          "base_uri": "https://localhost:8080/"
        },
        "id": "zLvYJl2FtXIj",
        "outputId": "bdcea81e-efca-4eaa-9d00-ee1ace34e38e"
      },
      "source": [
        "# Estudo de classes e métodos\n",
        "\n",
        "class Televisao:\n",
        "  def __init__(self):\n",
        "    self.ligada = False\n",
        "    self.canal = 5\n",
        "\n",
        "  def power(self):\n",
        "    if self.ligada:\n",
        "      self.ligada = False\n",
        "    else:\n",
        "      self.ligada = True\n",
        "\n",
        "  def aumenta_canal(self):\n",
        "    if self.ligada:\n",
        "      self.canal +=1\n",
        "    \n",
        "  def diminui_canal(self):\n",
        "    if self.ligada:\n",
        "      self.canal -=1\n",
        "\n",
        "televisao = Televisao()\n",
        "print('Televisao está ligada: {}'.format(televisao.ligada))\n",
        "televisao.power()\n",
        "print('Televisao está ligada: {}'.format(televisao.ligada))\n",
        "print('Canal: {}'.format(televisao.canal))\n",
        "televisao.power()\n",
        "print('Televisao está ligada: {}'.format(televisao.ligada))\n",
        "televisao.aumenta_canal()\n",
        "televisao.aumenta_canal()\n",
        "print('Canal: {}'.format(televisao.canal))\n",
        "televisao.diminui_canal()\n",
        "print('Canal: {}'.format(televisao.canal))"
      ],
      "execution_count": null,
      "outputs": [
        {
          "output_type": "stream",
          "text": [
            "Televisao está ligada: False\n",
            "Televisao está ligada: True\n",
            "Canal: 5\n",
            "Televisao está ligada: False\n",
            "Canal: 5\n",
            "Canal: 5\n"
          ],
          "name": "stdout"
        }
      ]
    }
  ]
}