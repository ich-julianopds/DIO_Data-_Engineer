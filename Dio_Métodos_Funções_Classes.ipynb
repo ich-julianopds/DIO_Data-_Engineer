{
  "nbformat": 4,
  "nbformat_minor": 0,
  "metadata": {
    "colab": {
      "name": "Dio_Métodos_Funções_Classes.ipynb",
      "provenance": [],
      "collapsed_sections": [],
      "authorship_tag": "ABX9TyOq6aB+MgwvH4u+HHYqOXMj",
      "include_colab_link": true
    },
    "kernelspec": {
      "name": "python3",
      "display_name": "Python 3"
    },
    "language_info": {
      "name": "python"
    }
  },
  "cells": [
    {
      "cell_type": "markdown",
      "metadata": {
        "id": "view-in-github",
        "colab_type": "text"
      },
      "source": [
        "<a href=\"https://colab.research.google.com/github/ich-julianopds/DIO_Data_Engineer/blob/main/Dio_M%C3%A9todos_Fun%C3%A7%C3%B5es_Classes.ipynb\" target=\"_parent\"><img src=\"https://colab.research.google.com/assets/colab-badge.svg\" alt=\"Open In Colab\"/></a>"
      ]
    },
    {
      "cell_type": "markdown",
      "metadata": {
        "id": "cxo_2doDD4sE"
      },
      "source": [
        "# Métodos funções e Classes"
      ]
    },
    {
      "cell_type": "markdown",
      "metadata": {
        "id": "dCzyFm2XXIQC"
      },
      "source": [
        "\"Função\" - retorna um valor;\n",
        "\n",
        "\"Método\" - não retorna;\n",
        "\n",
        "Métodos são sempre escritos com letras maiúsculas por convenção.\n",
        "\n",
        "Segue abaixo o exemplo de classe:"
      ]
    },
    {
      "cell_type": "code",
      "metadata": {
        "colab": {
          "base_uri": "https://localhost:8080/"
        },
        "id": "jAlgjNYbOc07",
        "outputId": "1e37d1ac-3948-43c0-ca6f-5cc6c1b24fcf"
      },
      "source": [
        "#Classe Calculadora (Obs: O Calculadora escreve-se em maiúsculo)\n",
        "\n",
        "class Calculadora:\n",
        "  def __init__(self, num_1, num_2):\n",
        "    self.valor_a = num_1\n",
        "    self.valor_b = num_2\n",
        "\n",
        "  def soma(self):\n",
        "    return self.valor_a + self.valor_b\n",
        "    \n",
        "  def subtracao(self):\n",
        "    return self.valor_a - self.valor_b\n",
        "\n",
        "  def multiplicacao(self):\n",
        "    return self.valor_a * self.valor_b\n",
        "\n",
        "  def divisao(self):\n",
        "    return self.valor_a / self.valor_b\n",
        "\n",
        "calculadora = Calculadora(10,2)\n",
        "print(calculadora.valor_a)\n",
        "print(calculadora.subtracao())\n",
        "print(calculadora.multiplicacao())\n",
        "print(calculadora.divisao())\n",
        "  "
      ],
      "execution_count": 2,
      "outputs": [
        {
          "output_type": "stream",
          "text": [
            "10\n",
            "8\n",
            "20\n",
            "5.0\n"
          ],
          "name": "stdout"
        }
      ]
    }
  ]
}